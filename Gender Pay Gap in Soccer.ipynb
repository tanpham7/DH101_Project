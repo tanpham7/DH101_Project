{
 "cells": [
  {
   "cell_type": "markdown",
   "metadata": {},
   "source": [
    "# Gender Pay Gap: \n",
    "## The Ugly Side of the Beautiful Game"
   ]
  },
  {
   "cell_type": "markdown",
   "metadata": {},
   "source": [
    "Football, or soccer as we know it in the United States, has always had its controversies as the most popular sport in the world. A fairly recent controversy looming over the sport has been about the large gender earning gaps. As women’s soccer continues to evolve to levels, popularity, and success akin to men’s soccer, a huge demand for equal pay has been voiced by many female soccer players around the world. \n",
    "\n",
    "I want to see how women’s soccer has been doing in relation to the lucrative earnings men’s soccer has accumulated to determine the trajectory of their earnings and find out when women may be able to earn the same as men do. "
   ]
  },
  {
   "cell_type": "markdown",
   "metadata": {},
   "source": [
    "### Research Question\n",
    "\n",
    "What does the pay gap imply economically and are there indications that women's salary in the future will rise?\n",
    "\n",
    "Looking at:\n",
    "- Wages\n",
    "- Revenue\n",
    "- Attendance"
   ]
  },
  {
   "cell_type": "markdown",
   "metadata": {},
   "source": [
    "### Data Sources\n",
    "\n",
    "Revenue and Attendance Statistics from [Statista](https://www.statista.com/topics/1595/soccer/#dossierSummary__chapter1)\n",
    "\n",
    "Images from [PBS](https://www.pbs.org/newshour/nation/data-how-does-the-u-s-womens-soccer-team-pay-compare-to-the-men) and [Statista](https://www.statista.com/chart/12045/soccers-embarrassing-gender-wage-gap/)\n",
    "\n",
    "Wages/Earnings from [Capology](https://www.capology.com/)"
   ]
  },
  {
   "cell_type": "markdown",
   "metadata": {},
   "source": [
    "### Methods\n",
    "\n",
    "Since I mostly focused on statistics, I mainly used CSV files and unpacked other information through visual means. The statistics I got from Statista were often split up and optimized so my code can work to import them correctly. I was fortunate to find an infographic from PBS that displays the issues raised regarding the gender pay gap. Capology is a database of athlete wages from around the world (no women's wages unfortunately)."
   ]
  },
  {
   "cell_type": "code",
   "execution_count": 1,
   "metadata": {},
   "outputs": [],
   "source": [
    "import pandas as pd\n",
    "import matplotlib as mlp\n",
    "import matplotlib.pyplot as plt\n",
    "import os\n",
    "import statistics\n",
    "import numpy as np\n",
    "import seaborn as sns\n",
    "from string import punctuation\n",
    "import csv"
   ]
  },
  {
   "cell_type": "code",
   "execution_count": 2,
   "metadata": {},
   "outputs": [],
   "source": [
    "%matplotlib inline"
   ]
  },
  {
   "cell_type": "code",
   "execution_count": 3,
   "metadata": {
    "scrolled": true
   },
   "outputs": [
    {
     "name": "stdout",
     "output_type": "stream",
     "text": [
      "Bundesliga.csv                        Ligue1.csv\r\n",
      "\u001b[34mData\u001b[m\u001b[m/                                 MLS.csv\r\n",
      "DigHum101 - Individual Project.ipynb  MWC.csv\r\n",
      "EPL.csv                               \u001b[34mResources\u001b[m\u001b[m/\r\n",
      "Europe.csv                            SerieA.csv\r\n",
      "Global Women's.csv                    WWC.csv\r\n",
      "\u001b[34mImages\u001b[m\u001b[m/                               uswntsoccer.png\r\n",
      "LaLiga.csv                            womensleagues.jpeg\r\n"
     ]
    }
   ],
   "source": [
    "%ls"
   ]
  },
  {
   "cell_type": "markdown",
   "metadata": {},
   "source": [
    "Importing Data"
   ]
  },
  {
   "cell_type": "code",
   "execution_count": 4,
   "metadata": {},
   "outputs": [],
   "source": [
    "epl = pd.read_csv(\"EPL.csv\")\n",
    "laliga = pd.read_csv(\"LaLiga.csv\")\n",
    "ita = pd.read_csv(\"SerieA.csv\")\n",
    "bun = pd.read_csv(\"Bundesliga.csv\")\n",
    "lig = pd.read_csv(\"Ligue1.csv\")\n",
    "MLS = pd.read_csv(\"MLS.csv\")"
   ]
  },
  {
   "cell_type": "markdown",
   "metadata": {},
   "source": [
    "Isolating Desired Column"
   ]
  },
  {
   "cell_type": "code",
   "execution_count": 5,
   "metadata": {
    "scrolled": false
   },
   "outputs": [],
   "source": [
    "df = pd.DataFrame(epl,columns=['Weekly Salary'])\n",
    "ll = pd.DataFrame(laliga,columns=['Weekly Salary'])\n",
    "it = pd.DataFrame(ita,columns=['Weekly Salary'])\n",
    "bu = pd.DataFrame(bun,columns=['Weekly Salary'])\n",
    "un = pd.DataFrame(lig,columns=['Weekly Salary'])\n",
    "us = pd.DataFrame(MLS,columns=['Weekly Salary'])"
   ]
  },
  {
   "cell_type": "markdown",
   "metadata": {},
   "source": [
    "Converting string into functional floats in order to calculate"
   ]
  },
  {
   "cell_type": "code",
   "execution_count": 6,
   "metadata": {},
   "outputs": [],
   "source": [
    "df['Weekly Salary'] = df['Weekly Salary'].str.replace('$','') \n",
    "df['Weekly Salary'] = df['Weekly Salary'].str.replace(',','')\n",
    "ll['Weekly Salary'] = ll['Weekly Salary'].str.replace('$','')\n",
    "ll['Weekly Salary'] = ll['Weekly Salary'].str.replace(',','')\n",
    "it['Weekly Salary'] = it['Weekly Salary'].str.replace('$','')\n",
    "it['Weekly Salary'] = it['Weekly Salary'].str.replace(',','')\n",
    "bu['Weekly Salary'] = bu['Weekly Salary'].str.replace('€','')\n",
    "bu['Weekly Salary'] = bu['Weekly Salary'].str.replace('$','')\n",
    "bu['Weekly Salary'] = bu['Weekly Salary'].str.replace(',','')\n",
    "un['Weekly Salary'] = un['Weekly Salary'].str.replace('$','')\n",
    "un['Weekly Salary'] = un['Weekly Salary'].str.replace(',','')\n",
    "us['Weekly Salary'] = us['Weekly Salary'].str.replace('$','')\n",
    "us['Weekly Salary'] = us['Weekly Salary'].str.replace(',','')"
   ]
  },
  {
   "cell_type": "code",
   "execution_count": 7,
   "metadata": {},
   "outputs": [],
   "source": [
    "#print(df)\n",
    "#print(ll)\n",
    "#print(it)\n",
    "#print(bu)\n",
    "#print(un)\n",
    "#print(us)"
   ]
  },
  {
   "cell_type": "markdown",
   "metadata": {},
   "source": [
    "Calculating Median Salaries for Each Country"
   ]
  },
  {
   "cell_type": "code",
   "execution_count": 8,
   "metadata": {
    "scrolled": true
   },
   "outputs": [
    {
     "data": {
      "text/plain": [
       "56731.0"
      ]
     },
     "execution_count": 8,
     "metadata": {},
     "output_type": "execute_result"
    }
   ],
   "source": [
    "df['Weekly Salary'].median(axis=0)"
   ]
  },
  {
   "cell_type": "code",
   "execution_count": 9,
   "metadata": {},
   "outputs": [
    {
     "data": {
      "text/plain": [
       "22314.0"
      ]
     },
     "execution_count": 9,
     "metadata": {},
     "output_type": "execute_result"
    }
   ],
   "source": [
    "ll['Weekly Salary'].median(axis=0)"
   ]
  },
  {
   "cell_type": "code",
   "execution_count": 10,
   "metadata": {},
   "outputs": [
    {
     "data": {
      "text/plain": [
       "24163.0"
      ]
     },
     "execution_count": 10,
     "metadata": {},
     "output_type": "execute_result"
    }
   ],
   "source": [
    "it['Weekly Salary'].median(axis=0)"
   ]
  },
  {
   "cell_type": "code",
   "execution_count": 11,
   "metadata": {},
   "outputs": [
    {
     "data": {
      "text/plain": [
       "17399.0"
      ]
     },
     "execution_count": 11,
     "metadata": {},
     "output_type": "execute_result"
    }
   ],
   "source": [
    "bu['Weekly Salary'].median(axis=0)"
   ]
  },
  {
   "cell_type": "code",
   "execution_count": 12,
   "metadata": {},
   "outputs": [
    {
     "data": {
      "text/plain": [
       "11679.0"
      ]
     },
     "execution_count": 12,
     "metadata": {},
     "output_type": "execute_result"
    }
   ],
   "source": [
    "un['Weekly Salary'].median(axis=0)"
   ]
  },
  {
   "cell_type": "code",
   "execution_count": 13,
   "metadata": {},
   "outputs": [
    {
     "data": {
      "text/plain": [
       "2953.0"
      ]
     },
     "execution_count": 13,
     "metadata": {},
     "output_type": "execute_result"
    }
   ],
   "source": [
    "us['Weekly Salary'].median(axis=0)"
   ]
  },
  {
   "cell_type": "code",
   "execution_count": 14,
   "metadata": {},
   "outputs": [],
   "source": [
    "eur = pd.read_csv(\"Europe.csv\")"
   ]
  },
  {
   "cell_type": "code",
   "execution_count": 15,
   "metadata": {},
   "outputs": [],
   "source": [
    "England = df['Weekly Salary'].median(axis=0)\n",
    "Spain = ll['Weekly Salary'].median(axis=0)\n",
    "Italy = it['Weekly Salary'].median(axis=0)\n",
    "Germany = bu['Weekly Salary'].median(axis=0)\n",
    "France = un['Weekly Salary'].median(axis=0)\n",
    "America =us['Weekly Salary'].median(axis=0)"
   ]
  },
  {
   "cell_type": "code",
   "execution_count": 16,
   "metadata": {
    "scrolled": false
   },
   "outputs": [
    {
     "data": {
      "image/png": "[encoded data removed]",
      "text/plain": [
       "<Figure size 432x288 with 1 Axes>"
      ]
     },
     "metadata": {
      "needs_background": "light"
     },
     "output_type": "display_data"
    }
   ],
   "source": [
    "left = [\"England\",'Spain','Italy','Germany','France',\"America\"]\n",
    "height = [England, Spain, Italy, Germany, France, America]\n",
    "plt.bar(left,height, width = .8, alpha = .8, color = ['red','orange','blue','yellow','navy','green'])\n",
    "plt.xlabel('Country')\n",
    "plt.ylabel('Earnings')\n",
    "plt.title('Median Earnings Per Week (2018)')\n",
    "plt.show()"
   ]
  },
  {
   "cell_type": "markdown",
   "metadata": {},
   "source": [
    "<img src=\"uswntsoccer.png\" width=\"400\"/>"
   ]
  },
  {
   "cell_type": "markdown",
   "metadata": {},
   "source": [
    "## Top Player Salaries (2018-19)"
   ]
  },
  {
   "cell_type": "code",
   "execution_count": 17,
   "metadata": {},
   "outputs": [],
   "source": [
    "df1 = epl[['Player','Weekly Salary']]\n",
    "ll1 = laliga[['Player','Weekly Salary']]\n",
    "it1 = ita[['Player','Weekly Salary']]\n",
    "bu1 = bun[['Player','Weekly Salary']]\n",
    "un1 = lig[['Player','Weekly Salary']]\n",
    "us1 = MLS[['Player','Weekly Salary']]"
   ]
  },
  {
   "cell_type": "markdown",
   "metadata": {},
   "source": [
    "### England"
   ]
  },
  {
   "cell_type": "code",
   "execution_count": 18,
   "metadata": {
    "scrolled": true
   },
   "outputs": [
    {
     "data": {
      "text/html": [
       "<div>\n",
       "<style scoped>\n",
       "    .dataframe tbody tr th:only-of-type {\n",
       "        vertical-align: middle;\n",
       "    }\n",
       "\n",
       "    .dataframe tbody tr th {\n",
       "        vertical-align: top;\n",
       "    }\n",
       "\n",
       "    .dataframe thead th {\n",
       "        text-align: right;\n",
       "    }\n",
       "</style>\n",
       "<table border=\"1\" class=\"dataframe\">\n",
       "  <thead>\n",
       "    <tr style=\"text-align: right;\">\n",
       "      <th></th>\n",
       "      <th>Player</th>\n",
       "      <th>Weekly Salary</th>\n",
       "    </tr>\n",
       "  </thead>\n",
       "  <tbody>\n",
       "    <tr>\n",
       "      <th>0</th>\n",
       "      <td>Alexis Sánchez (http://www.capology.com/soccer...</td>\n",
       "      <td>$461,765</td>\n",
       "    </tr>\n",
       "    <tr>\n",
       "      <th>1</th>\n",
       "      <td>Mesut Özil (http://www.capology.com/soccer/pla...</td>\n",
       "      <td>$461,765</td>\n",
       "    </tr>\n",
       "    <tr>\n",
       "      <th>2</th>\n",
       "      <td>Gonzalo Higuaín (http://www.capology.com/socce...</td>\n",
       "      <td>$400,290</td>\n",
       "    </tr>\n",
       "    <tr>\n",
       "      <th>3</th>\n",
       "      <td>Paul Pogba (http://www.capology.com/soccer/pla...</td>\n",
       "      <td>$382,606</td>\n",
       "    </tr>\n",
       "    <tr>\n",
       "      <th>4</th>\n",
       "      <td>Kevin De Bruyne (http://www.capology.com/socce...</td>\n",
       "      <td>$303,624</td>\n",
       "    </tr>\n",
       "  </tbody>\n",
       "</table>\n",
       "</div>"
      ],
      "text/plain": [
       "                                              Player Weekly Salary\n",
       "0  Alexis Sánchez (http://www.capology.com/soccer...      $461,765\n",
       "1  Mesut Özil (http://www.capology.com/soccer/pla...      $461,765\n",
       "2  Gonzalo Higuaín (http://www.capology.com/socce...      $400,290\n",
       "3  Paul Pogba (http://www.capology.com/soccer/pla...      $382,606\n",
       "4  Kevin De Bruyne (http://www.capology.com/socce...      $303,624"
      ]
     },
     "execution_count": 18,
     "metadata": {},
     "output_type": "execute_result"
    }
   ],
   "source": [
    "df1.head(5)"
   ]
  },
  {
   "cell_type": "markdown",
   "metadata": {},
   "source": [
    "### Spain"
   ]
  },
  {
   "cell_type": "code",
   "execution_count": 19,
   "metadata": {
    "scrolled": true
   },
   "outputs": [
    {
     "data": {
      "text/html": [
       "<div>\n",
       "<style scoped>\n",
       "    .dataframe tbody tr th:only-of-type {\n",
       "        vertical-align: middle;\n",
       "    }\n",
       "\n",
       "    .dataframe tbody tr th {\n",
       "        vertical-align: top;\n",
       "    }\n",
       "\n",
       "    .dataframe thead th {\n",
       "        text-align: right;\n",
       "    }\n",
       "</style>\n",
       "<table border=\"1\" class=\"dataframe\">\n",
       "  <thead>\n",
       "    <tr style=\"text-align: right;\">\n",
       "      <th></th>\n",
       "      <th>Player</th>\n",
       "      <th>Weekly Salary</th>\n",
       "    </tr>\n",
       "  </thead>\n",
       "  <tbody>\n",
       "    <tr>\n",
       "      <th>0</th>\n",
       "      <td>Lionel Messi (http://www.capology.com/soccer/p...</td>\n",
       "      <td>$1,538,905</td>\n",
       "    </tr>\n",
       "    <tr>\n",
       "      <th>1</th>\n",
       "      <td>Antoine Griezmann (http://www.capology.com/soc...</td>\n",
       "      <td>$997,032</td>\n",
       "    </tr>\n",
       "    <tr>\n",
       "      <th>2</th>\n",
       "      <td>Gareth Bale (http://www.capology.com/soccer/pl...</td>\n",
       "      <td>$607,706</td>\n",
       "    </tr>\n",
       "    <tr>\n",
       "      <th>3</th>\n",
       "      <td>Luis Suárez (http://www.capology.com/soccer/pl...</td>\n",
       "      <td>$508,923</td>\n",
       "    </tr>\n",
       "    <tr>\n",
       "      <th>4</th>\n",
       "      <td>Philippe Coutinho (http://www.capology.com/soc...</td>\n",
       "      <td>$508,923</td>\n",
       "    </tr>\n",
       "  </tbody>\n",
       "</table>\n",
       "</div>"
      ],
      "text/plain": [
       "                                              Player Weekly Salary\n",
       "0  Lionel Messi (http://www.capology.com/soccer/p...    $1,538,905\n",
       "1  Antoine Griezmann (http://www.capology.com/soc...      $997,032\n",
       "2  Gareth Bale (http://www.capology.com/soccer/pl...      $607,706\n",
       "3  Luis Suárez (http://www.capology.com/soccer/pl...      $508,923\n",
       "4  Philippe Coutinho (http://www.capology.com/soc...      $508,923"
      ]
     },
     "execution_count": 19,
     "metadata": {},
     "output_type": "execute_result"
    }
   ],
   "source": [
    "ll1.head(5)"
   ]
  },
  {
   "cell_type": "markdown",
   "metadata": {},
   "source": [
    "### Italy"
   ]
  },
  {
   "cell_type": "code",
   "execution_count": 20,
   "metadata": {},
   "outputs": [
    {
     "data": {
      "text/html": [
       "<div>\n",
       "<style scoped>\n",
       "    .dataframe tbody tr th:only-of-type {\n",
       "        vertical-align: middle;\n",
       "    }\n",
       "\n",
       "    .dataframe tbody tr th {\n",
       "        vertical-align: top;\n",
       "    }\n",
       "\n",
       "    .dataframe thead th {\n",
       "        text-align: right;\n",
       "    }\n",
       "</style>\n",
       "<table border=\"1\" class=\"dataframe\">\n",
       "  <thead>\n",
       "    <tr style=\"text-align: right;\">\n",
       "      <th></th>\n",
       "      <th>Player</th>\n",
       "      <th>Weekly Salary</th>\n",
       "    </tr>\n",
       "  </thead>\n",
       "  <tbody>\n",
       "    <tr>\n",
       "      <th>0</th>\n",
       "      <td>Cristiano Ronaldo (http://www.capology.com/soc...</td>\n",
       "      <td>$1,248,536</td>\n",
       "    </tr>\n",
       "    <tr>\n",
       "      <th>1</th>\n",
       "      <td>Paulo Dybala (http://www.capology.com/soccer/p...</td>\n",
       "      <td>$281,930</td>\n",
       "    </tr>\n",
       "    <tr>\n",
       "      <th>2</th>\n",
       "      <td>Miralem Pjanic (http://www.capology.com/soccer...</td>\n",
       "      <td>$261,791</td>\n",
       "    </tr>\n",
       "    <tr>\n",
       "      <th>3</th>\n",
       "      <td>Douglas Costa (http://www.capology.com/soccer/...</td>\n",
       "      <td>$241,651</td>\n",
       "    </tr>\n",
       "    <tr>\n",
       "      <th>4</th>\n",
       "      <td>Gianluigi Donnarumma (http://www.capology.com/...</td>\n",
       "      <td>$241,651</td>\n",
       "    </tr>\n",
       "  </tbody>\n",
       "</table>\n",
       "</div>"
      ],
      "text/plain": [
       "                                              Player Weekly Salary\n",
       "0  Cristiano Ronaldo (http://www.capology.com/soc...    $1,248,536\n",
       "1  Paulo Dybala (http://www.capology.com/soccer/p...      $281,930\n",
       "2  Miralem Pjanic (http://www.capology.com/soccer...      $261,791\n",
       "3  Douglas Costa (http://www.capology.com/soccer/...      $241,651\n",
       "4  Gianluigi Donnarumma (http://www.capology.com/...      $241,651"
      ]
     },
     "execution_count": 20,
     "metadata": {},
     "output_type": "execute_result"
    }
   ],
   "source": [
    "it1.head(5)"
   ]
  },
  {
   "cell_type": "markdown",
   "metadata": {},
   "source": [
    "### Germany"
   ]
  },
  {
   "cell_type": "code",
   "execution_count": 21,
   "metadata": {
    "scrolled": true
   },
   "outputs": [
    {
     "data": {
      "text/html": [
       "<div>\n",
       "<style scoped>\n",
       "    .dataframe tbody tr th:only-of-type {\n",
       "        vertical-align: middle;\n",
       "    }\n",
       "\n",
       "    .dataframe tbody tr th {\n",
       "        vertical-align: top;\n",
       "    }\n",
       "\n",
       "    .dataframe thead th {\n",
       "        text-align: right;\n",
       "    }\n",
       "</style>\n",
       "<table border=\"1\" class=\"dataframe\">\n",
       "  <thead>\n",
       "    <tr style=\"text-align: right;\">\n",
       "      <th></th>\n",
       "      <th>Player</th>\n",
       "      <th>Weekly Salary</th>\n",
       "    </tr>\n",
       "  </thead>\n",
       "  <tbody>\n",
       "    <tr>\n",
       "      <th>0</th>\n",
       "      <td>Robert Lewandowski (http://www.capology.com/so...</td>\n",
       "      <td>€346,807</td>\n",
       "    </tr>\n",
       "    <tr>\n",
       "      <th>1</th>\n",
       "      <td>Manuel Neuer (http://www.capology.com/soccer/p...</td>\n",
       "      <td>€326,233</td>\n",
       "    </tr>\n",
       "    <tr>\n",
       "      <th>2</th>\n",
       "      <td>Thomas Müller (http://www.capology.com/soccer/...</td>\n",
       "      <td>€325,124</td>\n",
       "    </tr>\n",
       "    <tr>\n",
       "      <th>3</th>\n",
       "      <td>James Rodríguez (http://www.capology.com/socce...</td>\n",
       "      <td>€281,778</td>\n",
       "    </tr>\n",
       "    <tr>\n",
       "      <th>4</th>\n",
       "      <td>Franck Ribéry (http://www.capology.com/soccer/...</td>\n",
       "      <td>€260,094</td>\n",
       "    </tr>\n",
       "  </tbody>\n",
       "</table>\n",
       "</div>"
      ],
      "text/plain": [
       "                                              Player Weekly Salary\n",
       "0  Robert Lewandowski (http://www.capology.com/so...      €346,807\n",
       "1  Manuel Neuer (http://www.capology.com/soccer/p...      €326,233\n",
       "2  Thomas Müller (http://www.capology.com/soccer/...      €325,124\n",
       "3  James Rodríguez (http://www.capology.com/socce...      €281,778\n",
       "4  Franck Ribéry (http://www.capology.com/soccer/...      €260,094"
      ]
     },
     "execution_count": 21,
     "metadata": {},
     "output_type": "execute_result"
    }
   ],
   "source": [
    "bu1.head(5)"
   ]
  },
  {
   "cell_type": "markdown",
   "metadata": {},
   "source": [
    "### France"
   ]
  },
  {
   "cell_type": "code",
   "execution_count": 22,
   "metadata": {
    "scrolled": true
   },
   "outputs": [
    {
     "data": {
      "text/html": [
       "<div>\n",
       "<style scoped>\n",
       "    .dataframe tbody tr th:only-of-type {\n",
       "        vertical-align: middle;\n",
       "    }\n",
       "\n",
       "    .dataframe tbody tr th {\n",
       "        vertical-align: top;\n",
       "    }\n",
       "\n",
       "    .dataframe thead th {\n",
       "        text-align: right;\n",
       "    }\n",
       "</style>\n",
       "<table border=\"1\" class=\"dataframe\">\n",
       "  <thead>\n",
       "    <tr style=\"text-align: right;\">\n",
       "      <th></th>\n",
       "      <th>Player</th>\n",
       "      <th>Weekly Salary</th>\n",
       "    </tr>\n",
       "  </thead>\n",
       "  <tbody>\n",
       "    <tr>\n",
       "      <th>0</th>\n",
       "      <td>Neymar (http://www.capology.com/soccer/player/...</td>\n",
       "      <td>$797,726</td>\n",
       "    </tr>\n",
       "    <tr>\n",
       "      <th>1</th>\n",
       "      <td>Kylian Mbappé (http://www.capology.com/soccer/...</td>\n",
       "      <td>$405,464</td>\n",
       "    </tr>\n",
       "    <tr>\n",
       "      <th>2</th>\n",
       "      <td>Edinson Cavani (http://www.capology.com/soccer...</td>\n",
       "      <td>$400,548</td>\n",
       "    </tr>\n",
       "    <tr>\n",
       "      <th>3</th>\n",
       "      <td>Thiago Silva (http://www.capology.com/soccer/p...</td>\n",
       "      <td>$345,937</td>\n",
       "    </tr>\n",
       "    <tr>\n",
       "      <th>4</th>\n",
       "      <td>Marquinhos (http://www.capology.com/soccer/pla...</td>\n",
       "      <td>$289,238</td>\n",
       "    </tr>\n",
       "  </tbody>\n",
       "</table>\n",
       "</div>"
      ],
      "text/plain": [
       "                                              Player Weekly Salary\n",
       "0  Neymar (http://www.capology.com/soccer/player/...      $797,726\n",
       "1  Kylian Mbappé (http://www.capology.com/soccer/...      $405,464\n",
       "2  Edinson Cavani (http://www.capology.com/soccer...      $400,548\n",
       "3  Thiago Silva (http://www.capology.com/soccer/p...      $345,937\n",
       "4  Marquinhos (http://www.capology.com/soccer/pla...      $289,238"
      ]
     },
     "execution_count": 22,
     "metadata": {},
     "output_type": "execute_result"
    }
   ],
   "source": [
    "un1.head(5)"
   ]
  },
  {
   "cell_type": "markdown",
   "metadata": {},
   "source": [
    "### America"
   ]
  },
  {
   "cell_type": "code",
   "execution_count": 23,
   "metadata": {
    "scrolled": true
   },
   "outputs": [
    {
     "data": {
      "text/html": [
       "<div>\n",
       "<style scoped>\n",
       "    .dataframe tbody tr th:only-of-type {\n",
       "        vertical-align: middle;\n",
       "    }\n",
       "\n",
       "    .dataframe tbody tr th {\n",
       "        vertical-align: top;\n",
       "    }\n",
       "\n",
       "    .dataframe thead th {\n",
       "        text-align: right;\n",
       "    }\n",
       "</style>\n",
       "<table border=\"1\" class=\"dataframe\">\n",
       "  <thead>\n",
       "    <tr style=\"text-align: right;\">\n",
       "      <th></th>\n",
       "      <th>Player</th>\n",
       "      <th>Weekly Salary</th>\n",
       "    </tr>\n",
       "  </thead>\n",
       "  <tbody>\n",
       "    <tr>\n",
       "      <th>0</th>\n",
       "      <td>Sebastian Giovinco (http://www.capology.com/so...</td>\n",
       "      <td>$136,838</td>\n",
       "    </tr>\n",
       "    <tr>\n",
       "      <th>1</th>\n",
       "      <td>Michael Bradley (http://www.capology.com/socce...</td>\n",
       "      <td>$125,000</td>\n",
       "    </tr>\n",
       "    <tr>\n",
       "      <th>2</th>\n",
       "      <td>Carlos Vela (http://www.capology.com/soccer/pl...</td>\n",
       "      <td>$121,010</td>\n",
       "    </tr>\n",
       "    <tr>\n",
       "      <th>3</th>\n",
       "      <td>Bastian Schweinsteiger (http://www.capology.co...</td>\n",
       "      <td>$117,308</td>\n",
       "    </tr>\n",
       "    <tr>\n",
       "      <th>4</th>\n",
       "      <td>Giovani dos Santos (http://www.capology.com/so...</td>\n",
       "      <td>$115,385</td>\n",
       "    </tr>\n",
       "  </tbody>\n",
       "</table>\n",
       "</div>"
      ],
      "text/plain": [
       "                                              Player Weekly Salary\n",
       "0  Sebastian Giovinco (http://www.capology.com/so...      $136,838\n",
       "1  Michael Bradley (http://www.capology.com/socce...      $125,000\n",
       "2  Carlos Vela (http://www.capology.com/soccer/pl...      $121,010\n",
       "3  Bastian Schweinsteiger (http://www.capology.co...      $117,308\n",
       "4  Giovani dos Santos (http://www.capology.com/so...      $115,385"
      ]
     },
     "execution_count": 23,
     "metadata": {},
     "output_type": "execute_result"
    }
   ],
   "source": [
    "us1.head(5)"
   ]
  },
  {
   "cell_type": "code",
   "execution_count": 24,
   "metadata": {},
   "outputs": [
    {
     "data": {
      "text/plain": [
       "<Figure size 432x288 with 0 Axes>"
      ]
     },
     "execution_count": 24,
     "metadata": {},
     "output_type": "execute_result"
    },
    {
     "data": {
      "text/plain": [
       "<Figure size 432x288 with 0 Axes>"
      ]
     },
     "metadata": {},
     "output_type": "display_data"
    }
   ],
   "source": [
    "plt.figure()"
   ]
  },
  {
   "cell_type": "markdown",
   "metadata": {},
   "source": [
    "## Europe's Huge Gap"
   ]
  },
  {
   "cell_type": "code",
   "execution_count": 25,
   "metadata": {
    "scrolled": true
   },
   "outputs": [
    {
     "data": {
      "text/html": [
       "<div>\n",
       "<style scoped>\n",
       "    .dataframe tbody tr th:only-of-type {\n",
       "        vertical-align: middle;\n",
       "    }\n",
       "\n",
       "    .dataframe tbody tr th {\n",
       "        vertical-align: top;\n",
       "    }\n",
       "\n",
       "    .dataframe thead th {\n",
       "        text-align: right;\n",
       "    }\n",
       "</style>\n",
       "<table border=\"1\" class=\"dataframe\">\n",
       "  <thead>\n",
       "    <tr style=\"text-align: right;\">\n",
       "      <th></th>\n",
       "      <th>Year</th>\n",
       "      <th>England</th>\n",
       "      <th>Italy</th>\n",
       "      <th>Germany</th>\n",
       "      <th>Spain</th>\n",
       "      <th>France</th>\n",
       "    </tr>\n",
       "  </thead>\n",
       "  <tbody>\n",
       "    <tr>\n",
       "      <th>0</th>\n",
       "      <td>1997</td>\n",
       "      <td>685</td>\n",
       "      <td>551</td>\n",
       "      <td>444</td>\n",
       "      <td>524</td>\n",
       "      <td>293</td>\n",
       "    </tr>\n",
       "    <tr>\n",
       "      <th>1</th>\n",
       "      <td>1998</td>\n",
       "      <td>895</td>\n",
       "      <td>650</td>\n",
       "      <td>569</td>\n",
       "      <td>513</td>\n",
       "      <td>323</td>\n",
       "    </tr>\n",
       "    <tr>\n",
       "      <th>2</th>\n",
       "      <td>1999</td>\n",
       "      <td>1,024</td>\n",
       "      <td>714</td>\n",
       "      <td>577</td>\n",
       "      <td>612</td>\n",
       "      <td>393</td>\n",
       "    </tr>\n",
       "    <tr>\n",
       "      <th>3</th>\n",
       "      <td>2000</td>\n",
       "      <td>1,219</td>\n",
       "      <td>954</td>\n",
       "      <td>681</td>\n",
       "      <td>722</td>\n",
       "      <td>607</td>\n",
       "    </tr>\n",
       "    <tr>\n",
       "      <th>4</th>\n",
       "      <td>2001</td>\n",
       "      <td>1,557</td>\n",
       "      <td>1,027</td>\n",
       "      <td>880</td>\n",
       "      <td>676</td>\n",
       "      <td>644</td>\n",
       "    </tr>\n",
       "    <tr>\n",
       "      <th>5</th>\n",
       "      <td>2002</td>\n",
       "      <td>1,747</td>\n",
       "      <td>1,017</td>\n",
       "      <td>1,043</td>\n",
       "      <td>776</td>\n",
       "      <td>643</td>\n",
       "    </tr>\n",
       "    <tr>\n",
       "      <th>6</th>\n",
       "      <td>2003</td>\n",
       "      <td>1,791</td>\n",
       "      <td>1,024</td>\n",
       "      <td>1,108</td>\n",
       "      <td>847</td>\n",
       "      <td>689</td>\n",
       "    </tr>\n",
       "    <tr>\n",
       "      <th>7</th>\n",
       "      <td>2004</td>\n",
       "      <td>1,977</td>\n",
       "      <td>1,052</td>\n",
       "      <td>1,058</td>\n",
       "      <td>953</td>\n",
       "      <td>655</td>\n",
       "    </tr>\n",
       "    <tr>\n",
       "      <th>8</th>\n",
       "      <td>2005</td>\n",
       "      <td>1,975</td>\n",
       "      <td>1,219</td>\n",
       "      <td>1,236</td>\n",
       "      <td>1,029</td>\n",
       "      <td>696</td>\n",
       "    </tr>\n",
       "    <tr>\n",
       "      <th>9</th>\n",
       "      <td>2006</td>\n",
       "      <td>1,995</td>\n",
       "      <td>1,277</td>\n",
       "      <td>1,195</td>\n",
       "      <td>1,158</td>\n",
       "      <td>910</td>\n",
       "    </tr>\n",
       "    <tr>\n",
       "      <th>10</th>\n",
       "      <td>2007</td>\n",
       "      <td>2,273</td>\n",
       "      <td>1,064</td>\n",
       "      <td>1,379</td>\n",
       "      <td>1,326</td>\n",
       "      <td>972</td>\n",
       "    </tr>\n",
       "    <tr>\n",
       "      <th>11</th>\n",
       "      <td>2008</td>\n",
       "      <td>2,441</td>\n",
       "      <td>1,421</td>\n",
       "      <td>1,438</td>\n",
       "      <td>1,438</td>\n",
       "      <td>989</td>\n",
       "    </tr>\n",
       "    <tr>\n",
       "      <th>12</th>\n",
       "      <td>2009</td>\n",
       "      <td>2,326</td>\n",
       "      <td>1,494</td>\n",
       "      <td>1,575</td>\n",
       "      <td>1,501</td>\n",
       "      <td>1,048</td>\n",
       "    </tr>\n",
       "    <tr>\n",
       "      <th>13</th>\n",
       "      <td>2010</td>\n",
       "      <td>2,479</td>\n",
       "      <td>1,532</td>\n",
       "      <td>1,664</td>\n",
       "      <td>1,644</td>\n",
       "      <td>1,072</td>\n",
       "    </tr>\n",
       "    <tr>\n",
       "      <th>14</th>\n",
       "      <td>2011</td>\n",
       "      <td>2,515</td>\n",
       "      <td>1,553</td>\n",
       "      <td>1,746</td>\n",
       "      <td>1,718</td>\n",
       "      <td>1,040</td>\n",
       "    </tr>\n",
       "    <tr>\n",
       "      <th>15</th>\n",
       "      <td>2012</td>\n",
       "      <td>2,900</td>\n",
       "      <td>1,600</td>\n",
       "      <td>1,900</td>\n",
       "      <td>1,800</td>\n",
       "      <td>1,100</td>\n",
       "    </tr>\n",
       "    <tr>\n",
       "      <th>16</th>\n",
       "      <td>2013</td>\n",
       "      <td>2,946</td>\n",
       "      <td>1,677</td>\n",
       "      <td>2,018</td>\n",
       "      <td>1,868</td>\n",
       "      <td>1,297</td>\n",
       "    </tr>\n",
       "    <tr>\n",
       "      <th>17</th>\n",
       "      <td>2014</td>\n",
       "      <td>3,897</td>\n",
       "      <td>1,700</td>\n",
       "      <td>2,275</td>\n",
       "      <td>1,933</td>\n",
       "      <td>1,498</td>\n",
       "    </tr>\n",
       "    <tr>\n",
       "      <th>18</th>\n",
       "      <td>2015</td>\n",
       "      <td>4,403</td>\n",
       "      <td>1,790</td>\n",
       "      <td>2,392</td>\n",
       "      <td>2,053</td>\n",
       "      <td>1,418</td>\n",
       "    </tr>\n",
       "    <tr>\n",
       "      <th>19</th>\n",
       "      <td>2016</td>\n",
       "      <td>4,865</td>\n",
       "      <td>1,917</td>\n",
       "      <td>2,712</td>\n",
       "      <td>2,437</td>\n",
       "      <td>1,485</td>\n",
       "    </tr>\n",
       "    <tr>\n",
       "      <th>20</th>\n",
       "      <td>2017</td>\n",
       "      <td>5,301</td>\n",
       "      <td>2,062</td>\n",
       "      <td>2,793</td>\n",
       "      <td>2,865</td>\n",
       "      <td>1,643</td>\n",
       "    </tr>\n",
       "    <tr>\n",
       "      <th>21</th>\n",
       "      <td>2018</td>\n",
       "      <td>5,440</td>\n",
       "      <td>2,217</td>\n",
       "      <td>3,168</td>\n",
       "      <td>3,073</td>\n",
       "      <td>1,692</td>\n",
       "    </tr>\n",
       "    <tr>\n",
       "      <th>22</th>\n",
       "      <td>2019</td>\n",
       "      <td>5,730</td>\n",
       "      <td>2,520</td>\n",
       "      <td>3,470</td>\n",
       "      <td>3,420</td>\n",
       "      <td>1,860</td>\n",
       "    </tr>\n",
       "    <tr>\n",
       "      <th>23</th>\n",
       "      <td>2020</td>\n",
       "      <td>5,940</td>\n",
       "      <td>2,570</td>\n",
       "      <td>3,720</td>\n",
       "      <td>3,790</td>\n",
       "      <td>1,930</td>\n",
       "    </tr>\n",
       "  </tbody>\n",
       "</table>\n",
       "</div>"
      ],
      "text/plain": [
       "    Year England  Italy Germany  Spain France\n",
       "0   1997     685    551     444    524    293\n",
       "1   1998     895    650     569    513    323\n",
       "2   1999   1,024    714     577    612    393\n",
       "3   2000   1,219    954     681    722    607\n",
       "4   2001   1,557  1,027     880    676    644\n",
       "5   2002   1,747  1,017   1,043    776    643\n",
       "6   2003   1,791  1,024   1,108    847    689\n",
       "7   2004   1,977  1,052   1,058    953    655\n",
       "8   2005   1,975  1,219   1,236  1,029    696\n",
       "9   2006   1,995  1,277   1,195  1,158    910\n",
       "10  2007   2,273  1,064   1,379  1,326    972\n",
       "11  2008   2,441  1,421   1,438  1,438    989\n",
       "12  2009   2,326  1,494   1,575  1,501  1,048\n",
       "13  2010   2,479  1,532   1,664  1,644  1,072\n",
       "14  2011   2,515  1,553   1,746  1,718  1,040\n",
       "15  2012   2,900  1,600   1,900  1,800  1,100\n",
       "16  2013   2,946  1,677   2,018  1,868  1,297\n",
       "17  2014   3,897  1,700   2,275  1,933  1,498\n",
       "18  2015   4,403  1,790   2,392  2,053  1,418\n",
       "19  2016   4,865  1,917   2,712  2,437  1,485\n",
       "20  2017   5,301  2,062   2,793  2,865  1,643\n",
       "21  2018   5,440  2,217   3,168  3,073  1,692\n",
       "22  2019   5,730  2,520   3,470  3,420  1,860\n",
       "23  2020   5,940  2,570   3,720  3,790  1,930"
      ]
     },
     "execution_count": 25,
     "metadata": {},
     "output_type": "execute_result"
    }
   ],
   "source": [
    "eur.head(25)"
   ]
  },
  {
   "cell_type": "code",
   "execution_count": 26,
   "metadata": {},
   "outputs": [],
   "source": [
    "eur['England'] = eur['England'].str.replace(',','') \n",
    "eur['Italy'] = eur['Italy'].str.replace(',','') \n",
    "eur['Germany'] = eur['Germany'].str.replace(',','') \n",
    "eur['Spain'] = eur['Spain'].str.replace(',','') \n",
    "eur['France'] = eur['France'].str.replace(',','') "
   ]
  },
  {
   "cell_type": "code",
   "execution_count": 27,
   "metadata": {},
   "outputs": [],
   "source": [
    "eur=eur.astype(float)"
   ]
  },
  {
   "cell_type": "code",
   "execution_count": 51,
   "metadata": {
    "scrolled": true
   },
   "outputs": [
    {
     "data": {
      "text/plain": [
       "Text(0.5, 1.0, 'League Revenue from 1996-2020 (in million Euros)')"
      ]
     },
     "execution_count": 51,
     "metadata": {},
     "output_type": "execute_result"
    },
    {
     "data": {
      "image/png": "[encoded data removed]",
      "text/plain": [
       "<Figure size 720x288 with 1 Axes>"
      ]
     },
     "metadata": {
      "needs_background": "light"
     },
     "output_type": "display_data"
    }
   ],
   "source": [
    "eur.plot(x=\"Year\", figsize=(10,4))\n",
    "plt.title('League Revenue from 1996-2020 (in million Euros)')"
   ]
  },
  {
   "cell_type": "markdown",
   "metadata": {},
   "source": [
    "<img src=\"womensleagues.jpeg\"/>"
   ]
  },
  {
   "cell_type": "markdown",
   "metadata": {},
   "source": [
    "## The Biggest Stage in the World"
   ]
  },
  {
   "cell_type": "code",
   "execution_count": 29,
   "metadata": {},
   "outputs": [],
   "source": [
    "wc = pd.read_csv(\"MWC.csv\")\n",
    "wwc = pd.read_csv(\"WWC.csv\")"
   ]
  },
  {
   "cell_type": "code",
   "execution_count": 30,
   "metadata": {},
   "outputs": [],
   "source": [
    "wcs = pd.DataFrame(wc,columns=['Year','Avg PG'])\n",
    "wwcs = pd.DataFrame(wwc,columns=['Year','Avg'])"
   ]
  },
  {
   "cell_type": "code",
   "execution_count": 31,
   "metadata": {
    "scrolled": true
   },
   "outputs": [],
   "source": [
    "wcs['Year'] = wcs['Year'].str.replace('Russia','')\n",
    "wcs['Year'] = wcs['Year'].str.replace('Brazil','')\n",
    "wcs['Year'] = wcs['Year'].str.replace('South Africa','')\n",
    "wcs['Year'] = wcs['Year'].str.replace('Germany','')\n",
    "wcs['Year'] = wcs['Year'].str.replace('Japan / South Korea','')\n",
    "wcs['Year'] = wcs['Year'].str.replace('France','')\n",
    "wcs['Year'] = wcs['Year'].str.replace('USA','')\n",
    "wcs['Year'] = wcs['Year'].str.replace('Italy','')\n",
    "wcs['Year'] = wcs['Year'].str.replace('Mexico','')\n",
    "wcs['Year'] = wcs['Year'].str.replace('Spain','')\n",
    "wcs['Year'] = wcs['Year'].str.replace('England','')\n",
    "wcs['Year'] = wcs['Year'].str.replace('Argentina','')\n",
    "wcs['Year'] = wcs['Year'].str.replace('Chile','')\n",
    "wcs['Year'] = wcs['Year'].str.replace('Sweden','')\n",
    "wcs['Year'] = wcs['Year'].str.replace('Switzerland','')\n",
    "wcs['Year'] = wcs['Year'].str.replace('Uruguay','')"
   ]
  },
  {
   "cell_type": "code",
   "execution_count": 42,
   "metadata": {},
   "outputs": [],
   "source": [
    "#print(wcs)"
   ]
  },
  {
   "cell_type": "code",
   "execution_count": 33,
   "metadata": {},
   "outputs": [],
   "source": [
    "wwcs['Year'] = wwcs['Year'].str.replace(\"'\",\"\")"
   ]
  },
  {
   "cell_type": "code",
   "execution_count": 34,
   "metadata": {},
   "outputs": [],
   "source": [
    "wwcs['Year'] = wwcs['Year'].str.replace('FIFA Womens WC PR of China','')\n",
    "wwcs['Year'] = wwcs['Year'].str.replace('FIFA Womens WC Sweden','')\n",
    "wwcs['Year'] = wwcs['Year'].str.replace('FIFA Womens WC USA','')\n",
    "wwcs['Year'] = wwcs['Year'].str.replace('FIFA Womens WC China','')\n",
    "wwcs['Year'] = wwcs['Year'].str.replace('FIFA Womens WC Germany','')\n",
    "wwcs['Year'] = wwcs['Year'].str.replace('FIFA Womens WC Canada','')\n",
    "wwcs['Year'] = wwcs['Year'].str.replace('FIFA Womens WC France','')"
   ]
  },
  {
   "cell_type": "code",
   "execution_count": 41,
   "metadata": {},
   "outputs": [],
   "source": [
    "#print(wwcs)"
   ]
  },
  {
   "cell_type": "code",
   "execution_count": 36,
   "metadata": {},
   "outputs": [],
   "source": [
    "wcs['Avg PG'] = wcs['Avg PG'].str.replace(',','')\n",
    "wwcs['Avg'] = wwcs['Avg'].str.replace(',','') "
   ]
  },
  {
   "cell_type": "code",
   "execution_count": 37,
   "metadata": {},
   "outputs": [],
   "source": [
    "wcs=wcs.astype(float)\n",
    "wwcs=wwcs.astype(float)"
   ]
  },
  {
   "cell_type": "markdown",
   "metadata": {},
   "source": [
    "## Men's WC Attendance Per Game (1930-2018)"
   ]
  },
  {
   "cell_type": "code",
   "execution_count": 38,
   "metadata": {},
   "outputs": [
    {
     "data": {
      "text/plain": [
       "Text(0, 0.5, 'Average Attendance Per Game')"
      ]
     },
     "execution_count": 38,
     "metadata": {},
     "output_type": "execute_result"
    },
    {
     "data": {
      "image/png": "[encoded data removed]",
      "text/plain": [
       "<Figure size 432x288 with 1 Axes>"
      ]
     },
     "metadata": {
      "needs_background": "light"
     },
     "output_type": "display_data"
    }
   ],
   "source": [
    "wcs.plot(x=\"Year\", y=\"Avg PG\")\n",
    "plt.xlabel('Year')\n",
    "plt.ylabel('Average Attendance Per Game')"
   ]
  },
  {
   "cell_type": "markdown",
   "metadata": {},
   "source": [
    "## Women's WC Attendance Per Game (1991-2019)"
   ]
  },
  {
   "cell_type": "code",
   "execution_count": 39,
   "metadata": {},
   "outputs": [
    {
     "data": {
      "text/plain": [
       "Text(0, 0.5, 'Average Attendance Per Game')"
      ]
     },
     "execution_count": 39,
     "metadata": {},
     "output_type": "execute_result"
    },
    {
     "data": {
      "image/png": "[encoded data removed]",
      "text/plain": [
       "<Figure size 432x288 with 1 Axes>"
      ]
     },
     "metadata": {
      "needs_background": "light"
     },
     "output_type": "display_data"
    }
   ],
   "source": [
    "wwcs.plot(x=\"Year\", y=\"Avg\")\n",
    "plt.xlabel('Year')\n",
    "plt.ylabel('Average Attendance Per Game')"
   ]
  },
  {
   "cell_type": "markdown",
   "metadata": {},
   "source": [
    "## Comparison"
   ]
  },
  {
   "cell_type": "code",
   "execution_count": 46,
   "metadata": {
    "scrolled": true
   },
   "outputs": [
    {
     "data": {
      "image/png": "[encoded data removed]",
      "text/plain": [
       "<Figure size 432x288 with 1 Axes>"
      ]
     },
     "metadata": {
      "needs_background": "light"
     },
     "output_type": "display_data"
    }
   ],
   "source": [
    "data = {\"Men's WC\":[24139, 23235, 26833, 60773, 36269,\n",
    "                    24800, 24250, 50459, 52312, 46685,\n",
    "                    42374, 35698, 46297, 48411, 0,\n",
    "                    68626, 0, 44676, 0, 42571,\n",
    "                    0, 52609, 0, 49499, 0,\n",
    "                    53772, 0, 47371, 0],\n",
    "\n",
    "        \"Women's WC\":[0, 0, 0, 0, 0,\n",
    "                      0, 0, 0, 0, 0,\n",
    "                      0, 0, 0, 0, 19615,\n",
    "                      0, 4315, 0, 37319, 0,\n",
    "                      21239, 0, 37218, 0, 26430,\n",
    "                      0, 26029, 0, 21756]};\n",
    "\n",
    "index     = [\"1930\", \"1934\", \"1938\", \"1950\", \"1954\",\n",
    "             \"1958\", \"1962\", \"1966\", \"1970\", \"1974\",\n",
    "             \"1978\", \"1982\", \"1986\", \"1990\", \"1991\",\n",
    "             \"1994\", \"1995\", \"1998\", \"1999\", \"2002\",\n",
    "             \"2003\", \"2006\", \"2007\", \"2010\", \"2011\", \n",
    "             \"2014\", \"2015\", \"2018\", \"2019\"];\n",
    "\n",
    "      \n",
    "\n",
    "dataFrame = pd.DataFrame(data=data, index=index);\n",
    "\n",
    "\n",
    "\n",
    "dataFrame.plot.bar(rot=10, title=\"Side-by-Side\");\n",
    "\n",
    "plt.xticks(rotation=80)\n",
    "\n",
    "plt.show(block=True);"
   ]
  },
  {
   "cell_type": "markdown",
   "metadata": {},
   "source": [
    "## Conclusion"
   ]
  },
  {
   "cell_type": "markdown",
   "metadata": {},
   "source": [
    "### Findings"
   ]
  },
  {
   "cell_type": "markdown",
   "metadata": {},
   "source": [
    "- Wages from European countries are the highest\n",
    "- The United States has the smallest wage gap as the men's earnings are not as high as European\n",
    "- Top Women's Leagues Accross the World do not have enough support for their players to earn comparable salaries\n",
    "- Money pools from Men's tournaments and leagues are much higher than Women's due to their support"
   ]
  },
  {
   "cell_type": "markdown",
   "metadata": {},
   "source": [
    "### Limitations\n",
    "\n",
    "- Women's Salaries are not as published as men's\n",
    "- Stronger countries like the U.S. still only had estimates of their wages, while other countries have no information available.\n",
    "- No viewership information to help see if women's soccer is gaining more popularity."
   ]
  },
  {
   "cell_type": "markdown",
   "metadata": {},
   "source": [
    "### Discussion\n",
    "\n",
    "A key part to this whole research was the availability of information regarding the leagues, tournaments, and players. For men, I was not particularly concerned because their information is verry widespread (to the point where people have regular discussions about their wages). On the other hand, data on women players are nearly impossible to find, however a lot can be assumed from a glance.\n",
    "\n",
    "Median salary earnings in the top five leagues in Europe, quite possibly the world, are much higher than of those outside like the U.S. Comparitively, the Men's and Women's teams in the United States seem to be much closer than of Europe or the rest of the world. However, domestic league earnings are nowhere near comparable as women's leagues just do not get enough attention.\n",
    "\n",
    "Most importantly to note is that although women's soccer has been more prevalant in the public eye, the established men's leagues offer much more to their players. I do not think it is necessarily intentional to have the gender pay gap in soccer be so huge. Successful women's teams like the United States are getting the equity they deserve but this also implies that other countries have little to no support for their women players."
   ]
  },
  {
   "cell_type": "markdown",
   "metadata": {},
   "source": [
    "### Questions for the Future\n",
    "\n",
    "- When will we have a steady database for women athletes?\n",
    "- Should all athlete earnings and salary information be publicly available?"
   ]
  }
 ],
 "metadata": {
  "kernelspec": {
   "display_name": "Python 3",
   "language": "python",
   "name": "python3"
  },
  "language_info": {
   "codemirror_mode": {
    "name": "ipython",
    "version": 3
   },
   "file_extension": ".py",
   "mimetype": "text/x-python",
   "name": "python",
   "nbconvert_exporter": "python",
   "pygments_lexer": "ipython3",
   "version": "3.7.6"
  }
 },
 "nbformat": 4,
 "nbformat_minor": 4
}
